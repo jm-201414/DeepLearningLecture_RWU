{
  "nbformat": 4,
  "nbformat_minor": 0,
  "metadata": {
    "colab": {
      "name": "FCN_Julia_Mueller_Colab.ipynb",
      "provenance": [],
      "collapsed_sections": []
    },
    "kernelspec": {
      "name": "python3",
      "display_name": "Python 3"
    },
    "accelerator": "GPU"
  },
  "cells": [
    {
      "cell_type": "markdown",
      "metadata": {
        "id": "d0a6ukfnFTnv",
        "colab_type": "text"
      },
      "source": [
        "**Back Propagation**"
      ]
    },
    {
      "cell_type": "code",
      "metadata": {
        "id": "Oi1k9nPDO0f1",
        "colab_type": "code",
        "colab": {}
      },
      "source": [
        "import numpy as np\n",
        "import matplotlib.pyplot as plt"
      ],
      "execution_count": 0,
      "outputs": []
    },
    {
      "cell_type": "code",
      "metadata": {
        "id": "Fg3gg1dhPzEu",
        "colab_type": "code",
        "colab": {}
      },
      "source": [
        "# We will first do some experiments in numpy, no worries there will be enough tensorflow soon.\n",
        "\n",
        "x = np.array([[0.2], [2]])\n",
        "W = np.array([[-0.3, 0.8]])\n",
        "y = 1"
      ],
      "execution_count": 0,
      "outputs": []
    },
    {
      "cell_type": "code",
      "metadata": {
        "id": "APubgcb1QEQw",
        "colab_type": "code",
        "colab": {}
      },
      "source": [
        "def multiplication(W,x):\n",
        "    q = np.dot(W,x) # implement a scalar multiplication with numpy\n",
        "    return q\n",
        "\n",
        "# implement the square function : f(x,W)= || W*x ||^2  in two steps\n",
        "def prediction(q):\n",
        "    f_1 = q**2  \n",
        "    y_pred = np.sum(f_1)   \n",
        "    return y_pred"
      ],
      "execution_count": 0,
      "outputs": []
    },
    {
      "cell_type": "code",
      "metadata": {
        "id": "hK-fSxGhQHar",
        "colab_type": "code",
        "colab": {}
      },
      "source": [
        "#implement the weight update step\n",
        "def update (W, grad_W, learning_rate):\n",
        "    W = W - learning_rate*grad_W\n",
        "    return W"
      ],
      "execution_count": 0,
      "outputs": []
    },
    {
      "cell_type": "code",
      "metadata": {
        "id": "aos6Ihj-QYbC",
        "colab_type": "code",
        "colab": {}
      },
      "source": [
        "#implement the error and the squared error loss function\n",
        "def prediction_loss(y_pred, y):\n",
        "    error = y_pred-y\n",
        "    loss = np.square(error)\n",
        "    return loss"
      ],
      "execution_count": 0,
      "outputs": []
    },
    {
      "cell_type": "code",
      "metadata": {
        "id": "OCISK2hpQcga",
        "colab_type": "code",
        "colab": {}
      },
      "source": [
        "# Starting with the loss function - implement the derivative at the loss function grad_loss = df/dloss = 2*loss\n",
        "def gradient_loss(y_pred, y):\n",
        "    grad_loss = 2*(y_pred-y)\n",
        "    return grad_loss\n",
        "\n",
        "# Over the square operator - implement the derivative at the unit: grad_q = df/dq * grad_loss = 2*q*grad_loss\n",
        "def gradient_prediction (q, grad_loss):\n",
        "    grad_q = 2*q*grad_loss\n",
        "    return grad_q\n",
        "\n",
        "# Finally to the multiplication of our inputs - implement the derivative at the input: grad_W = df/dw * grad_q = x * grad_q\n",
        "def gradient_multiplication (x, grad_q):\n",
        "    if len(x) == 1:\n",
        "        grad_W = grad_q * x.T\n",
        "    else:\n",
        "        grad_W = grad_q.dot(x.T)\n",
        "    return grad_W"
      ],
      "execution_count": 0,
      "outputs": []
    },
    {
      "cell_type": "code",
      "metadata": {
        "id": "vn71uo6uQjZ4",
        "colab_type": "code",
        "outputId": "d7a8096d-9834-425d-ecc8-4ef46971349b",
        "colab": {
          "base_uri": "https://localhost:8080/",
          "height": 357
        }
      },
      "source": [
        "#Finally we bring everything together in our iterative weight update process, in our optimization routine for our neural network.\n",
        "learning_rate = 1e-2\n",
        "\n",
        "weightlist1 = []\n",
        "weightlist2 = []\n",
        "predictionlist = []\n",
        "groundtruthlist = []\n",
        "\n",
        "for t in range(10):\n",
        "    \n",
        "    weightlist1.append(W[0][0])\n",
        "    weightlist2.append(W[0][1])\n",
        "    \n",
        "    # Forward pass\n",
        "    q = multiplication(W, x)\n",
        "    y_pred = prediction(q)\n",
        "    loss = prediction_loss(y_pred, y)\n",
        "    print(\"Training loss: \", loss)\n",
        "    \n",
        "    # Backpropagation\n",
        "    grad_loss = gradient_loss(y_pred, y)\n",
        "    grad_q = gradient_prediction (q, grad_loss)\n",
        "    grad_W = gradient_multiplication (x, grad_q)\n",
        "    W = update (W, grad_W, learning_rate)\n",
        "    predictionlist.append(y_pred)\n",
        "    groundtruthlist.append(y)\n",
        "    print(\"Current prediction: \", y_pred)"
      ],
      "execution_count": 0,
      "outputs": [
        {
          "output_type": "stream",
          "text": [
            "Training loss:  1.8812865599999997\n",
            "Current prediction:  2.3716\n",
            "Training loss:  0.19077793096573217\n",
            "Current prediction:  1.4367813308347006\n",
            "Training loss:  0.05813516022627628\n",
            "Current prediction:  1.2411123394318015\n",
            "Training loss:  0.021397771751449256\n",
            "Current prediction:  1.14627977218826\n",
            "Training loss:  0.00859828235134978\n",
            "Current prediction:  1.0927269235516297\n",
            "Training loss:  0.003626927562396606\n",
            "Current prediction:  1.0602239783009775\n",
            "Training loss:  0.0015751203015956998\n",
            "Current prediction:  1.0396877852946684\n",
            "Training loss:  0.0006966633103661769\n",
            "Current prediction:  1.0263943802800175\n",
            "Training loss:  0.0003117777091850404\n",
            "Current prediction:  1.0176572282418572\n",
            "Training loss:  0.00014061053282360107\n",
            "Current prediction:  1.0118579312202256\n"
          ],
          "name": "stdout"
        }
      ]
    },
    {
      "cell_type": "code",
      "metadata": {
        "id": "pZPSMT58Qn3J",
        "colab_type": "code",
        "outputId": "3175f611-18a3-4689-85e4-4b1c081aa589",
        "colab": {
          "base_uri": "https://localhost:8080/",
          "height": 279
        }
      },
      "source": [
        "# How do the weights change with respect to the given input? Elaborate?\n",
        "\n",
        "import matplotlib.pyplot as plt\n",
        "plt.plot(weightlist1, weightlist2)\n",
        "plt.xlabel('Weight 1')\n",
        "plt.ylabel('Weight 2')\n",
        "plt.show()"
      ],
      "execution_count": 0,
      "outputs": [
        {
          "output_type": "display_data",
          "data": {
            "image/png": "[encoded data removed]",
            "text/plain": [
              "<Figure size 432x288 with 1 Axes>"
            ]
          },
          "metadata": {
            "tags": [],
            "needs_background": "light"
          }
        }
      ]
    },
    {
      "cell_type": "code",
      "metadata": {
        "id": "zoX7Qep0QsZC",
        "colab_type": "code",
        "outputId": "954730ca-8b55-4d9f-d592-595f2c487146",
        "colab": {
          "base_uri": "https://localhost:8080/",
          "height": 279
        }
      },
      "source": [
        "plt.plot(predictionlist, groundtruthlist)\n",
        "plt.xlabel('Prediction')\n",
        "plt.ylabel('Groundtruth')\n",
        "plt.show()"
      ],
      "execution_count": 0,
      "outputs": [
        {
          "output_type": "display_data",
          "data": {
            "image/png": "[encoded data removed]",
            "text/plain": [
              "<Figure size 432x288 with 1 Axes>"
            ]
          },
          "metadata": {
            "tags": [],
            "needs_background": "light"
          }
        }
      ]
    },
    {
      "cell_type": "markdown",
      "metadata": {
        "id": "7UEQObZFFkBA",
        "colab_type": "text"
      },
      "source": [
        "**Optimization (First Steps with TensorFlow)**"
      ]
    },
    {
      "cell_type": "code",
      "metadata": {
        "id": "-ozzOQE9Q1-7",
        "colab_type": "code",
        "outputId": "f3d0119f-b268-41d3-e387-f8e5f40945f6",
        "colab": {
          "base_uri": "https://localhost:8080/",
          "height": 34
        }
      },
      "source": [
        "try:\n",
        "  # Use the %tensorflow_version magic if in colab.\n",
        "  %tensorflow_version 1.x\n",
        "except Exception:\n",
        "  pass\n",
        "  \n",
        "import tensorflow as tf\n",
        "import numpy as np\n",
        "\n",
        "# For reproducability\n",
        "np.random.seed(2)"
      ],
      "execution_count": 0,
      "outputs": [
        {
          "output_type": "stream",
          "text": [
            "TensorFlow 1.x selected.\n"
          ],
          "name": "stdout"
        }
      ]
    },
    {
      "cell_type": "code",
      "metadata": {
        "id": "G9ZTLuGoRFWh",
        "colab_type": "code",
        "colab": {}
      },
      "source": [
        "# Neural Network architecture\n",
        "n_input = 3\n",
        "n_output = 1\n",
        "n_units = 1\n",
        "\n",
        "# Training parameters\n",
        "n_updates = 20\n",
        "\n",
        "# Define graph / network\n",
        "weights = {\n",
        "    'h1': tf.Variable(np.reshape([np.float32(2.0), np.float32(2.0), np.float32(2.0)], (3, 1))),\n",
        "    # 'h1': tf.Variable(tf.random_normal([n_input, n_units])),\n",
        "}\n",
        "\n",
        "biases = {\n",
        "    'b1': tf.Variable(np.reshape([np.float32(4.0)], (1, 1))),\n",
        "    # 'b1': tf.Variable(tf.random_normal([n_units])),\n",
        "}\n",
        "\n",
        "# This is where we design our unit\n",
        "def unit(x0, weights, biases):\n",
        "    # unit / neuron structure\n",
        "    layer_1 = tf.add(tf.matmul(tf.cast(x0, tf.float32), weights['h1']), biases['b1'])\n",
        "    # activation function\n",
        "    y_pred = tf.nn.relu(layer_1)\n",
        "    return y_pred\n",
        "\n",
        "\n",
        "# Input\n",
        "x = tf.Variable(np.reshape([1.0, 1.0, 3.0], (1, 3)))\n",
        "# predicted output\n",
        "y_pred = unit(x, weights, biases)\n",
        "# Expected output\n",
        "y_gt = tf.Variable(np.reshape([10.0], (1, 1)))"
      ],
      "execution_count": 0,
      "outputs": []
    },
    {
      "cell_type": "code",
      "metadata": {
        "id": "0ggney0_RPrK",
        "colab_type": "code",
        "outputId": "307f0bf8-d2c4-475d-8f34-10de26fbf502",
        "colab": {
          "base_uri": "https://localhost:8080/",
          "height": 68
        }
      },
      "source": [
        "cost = tf.losses.mean_squared_error(labels=y_gt, predictions=y_pred)\n",
        "\n",
        "# 1. Stochastic gradient descent\n",
        "opt = tf.train.GradientDescentOptimizer(learning_rate=0.0001)\n",
        "# After 20 Updates:\n",
        "# Gradient [ 7.0251474  7.0251474 21.517956 ]\n",
        "# Weights: [1.9849533 1.9849533 1.9544164]\n",
        "# Biases: [[3.9847324]]\n",
        "# Prediction [[13.638068]]\n",
        "\n",
        "\n",
        "# 2.a Momentum optimizer\n",
        "# opt = tf.train.MomentumOptimizer(learning_rate=0.0001, momentum=0.75)\n",
        "# After 20 Updates:\n",
        "# Gradient [ 5.117397  5.117397 16.446926]\n",
        "# Weights: [1.9532871 1.9532871 1.8565807]\n",
        "# Biases: [[3.951654]]\n",
        "# Prediction [[12.878408]]\n",
        "\n",
        "# 2.b Momentum optimizer\n",
        "# opt = tf.train.MomentumOptimizer(learning_rate=0.0001, momentum=0.9)\n",
        "# After 20 Updates:\n",
        "# Gradient [ 3.3781219  3.3781219 11.478415 ]\n",
        "# Weights: [1.9202291 1.9202291 1.7540268]\n",
        "# Biases: [[3.9169135]]\n",
        "# Prediction [[12.104794]]\n",
        "## Bei der gleichen Lernrate kommt der MomentumOptimizer mit dem höherem Momentum am schnellstem zum Ziel\n",
        "\n",
        "# 3.a Adaptive momentum optimizer\n",
        "# opt = tf.train.AdamOptimizer(learning_rate=0.0001)\n",
        "# After 20 Updates:\n",
        "# Gradient [ 7.932161  7.932161 23.828259]\n",
        "# Weights: [1.9980009 1.9980009 1.9980007]\n",
        "# Biases: [[3.998002]]\n",
        "# Prediction [[13.976024]]\n",
        "## Bei der ganz enfachen Model kann der ADAM noch nicht seine Stärke zeigen\n",
        "\n",
        "# 3.b Adaptive momentum optimizer\n",
        "# opt = tf.train.AdamOptimizer(learning_rate=0.01)\n",
        "# After 20 Updates:\n",
        "# Gradient [2.7061534 2.7061534 9.368019 ]\n",
        "# Weights: [1.8140895 1.8140895 1.811924 ]\n",
        "# Biases: [[3.8109324]]\n",
        "# Prediction [[11.8545265]]\n",
        "# cost 2.7737527\n",
        "## Mit der höheren Lernrate kommt der ADAM natürlich schneller zum Ziel und wird zum Gewinnwer. \n",
        "## Die zu hohe Lernrate bringt mit sich aber natürlich die Gefahr  das Ziel zu überspringen und anfangen sich vom Ziel \"weg zu schaukeln\" (Siehe unten!!!)\n",
        "\n",
        "# 4. Adaptive momentum optimizer with adjusted initial learning rate\n",
        "opt = tf.train.AdamOptimizer(learning_rate=0.1)\n",
        "# After 20 Updates:\n",
        "# Gradient [1.4644433 1.4644433 5.4320855]\n",
        "# Weights: [1.5981324 1.5981324 1.7860967]\n",
        "# Biases: [[3.8592415]]\n",
        "# Prediction [[11.129873]]\n",
        "## Hier ist die Gefahr der zu hohen Lernrate veranschaulicht (Siehe Plot)\n",
        "\n",
        "\n",
        "train = opt.minimize(cost)"
      ],
      "execution_count": 0,
      "outputs": [
        {
          "output_type": "stream",
          "text": [
            "WARNING:tensorflow:From /tensorflow-1.15.2/python3.6/tensorflow_core/python/ops/losses/losses_impl.py:121: where (from tensorflow.python.ops.array_ops) is deprecated and will be removed in a future version.\n",
            "Instructions for updating:\n",
            "Use tf.where in 2.0, which has the same broadcast rule as np.where\n"
          ],
          "name": "stdout"
        }
      ]
    },
    {
      "cell_type": "code",
      "metadata": {
        "id": "SgSrw40t6gUa",
        "colab_type": "code",
        "outputId": "462c2748-c403-441f-d96d-40af4578786f",
        "colab": {
          "base_uri": "https://localhost:8080/",
          "height": 1000
        }
      },
      "source": [
        "# Run graph\n",
        "losslist = []\n",
        "updatelist = []\n",
        "with tf.Session() as sess:\n",
        "    sess.run(tf.global_variables_initializer())\n",
        "    for i in range(n_updates):        \n",
        "        sess.run(train)\n",
        "        grad, variable = sess.run(opt.compute_gradients(cost))[0]\n",
        "        \n",
        "        print('Gradient', np.reshape(grad, 3))\n",
        "        print('Weights:', np.reshape(sess.run(weights['h1']), 3))\n",
        "        print('Biases:', sess.run(biases['b1']))\n",
        "        print('Prediction', y_pred.eval())\n",
        "        \n",
        "        print('cost', sess.run(cost))\n",
        "        print('')\n",
        "        losslist.append(sess.run(cost))\n",
        "        updatelist.append(i)"
      ],
      "execution_count": 0,
      "outputs": [
        {
          "output_type": "stream",
          "text": [
            "Gradient [ 4.913999  4.913999 15.833998]\n",
            "Weights: [1.9 1.9 1.9]\n",
            "Biases: [[3.9]]\n",
            "Prediction [[12.83]]\n",
            "cost 7.4528975\n",
            "\n",
            "Gradient [2.503305 2.503305 8.735945]\n",
            "Weights: [1.8039511 1.8039511 1.803085 ]\n",
            "Biases: [[3.802702]]\n",
            "Prediction [[11.755458]]\n",
            "cost 2.4278622\n",
            "\n",
            "Gradient [0.7409544 0.7409544 2.817891 ]\n",
            "Weights: [1.7157449 1.7157449 1.7128251]\n",
            "Biases: [[3.7115302]]\n",
            "Prediction [[10.807703]]\n",
            "cost 0.26960266\n",
            "\n",
            "Gradient [-0.44467068 -0.44467068 -1.8450732 ]\n",
            "Weights: [1.6392767 1.6392767 1.6337807]\n",
            "Biases: [[3.6313264]]\n",
            "Prediction [[10.018576]]\n",
            "cost 0.12256837\n",
            "\n",
            "Gradient [-1.1687356 -1.1687356 -5.2551713]\n",
            "Weights: [1.5772022 1.5772022 1.5704294]\n",
            "Biases: [[3.5674272]]\n",
            "Prediction [[9.410973]]\n",
            "cost 1.043668\n",
            "\n",
            "Gradient [-1.5653564 -1.5653564 -7.5094156]\n",
            "Weights: [1.5303086 1.5303086 1.5255983]\n",
            "Biases: [[3.5236487]]\n",
            "Prediction [[8.990318]]\n",
            "cost 2.2082953\n",
            "\n",
            "Gradient [-1.7524456 -1.7524456 -8.773108 ]\n",
            "Weights: [1.497858  1.497858  1.4996396]\n",
            "Biases: [[3.5007644]]\n",
            "Prediction [[8.743986]]\n",
            "cost 3.0809026\n",
            "\n",
            "Gradient [-1.8098627 -1.8098627 -9.227959 ]\n",
            "Weights: [1.4783143 1.4783143 1.490895 ]\n",
            "Biases: [[3.4968524]]\n",
            "Prediction [[8.648497]]\n",
            "cost 3.439732\n",
            "\n",
            "Gradient [-1.7788404 -1.7788404 -9.033319 ]\n",
            "Weights: [1.4698879 1.4698879 1.4967046]\n",
            "Biases: [[3.5086923]]\n",
            "Prediction [[8.677627]]\n",
            "cost 3.2894409\n",
            "\n",
            "Gradient [-1.6733241 -1.6733241 -8.314936 ]\n",
            "Weights: [1.4707841 1.4707841 1.514173 ]\n",
            "Biases: [[3.532857]]\n",
            "Prediction [[8.806891]]\n",
            "cost 2.7564354\n",
            "\n",
            "Gradient [-1.4929882 -1.4929882 -7.1720057]\n",
            "Weights: [1.4792572 1.4792572 1.5405179]\n",
            "Biases: [[3.5661664]]\n",
            "Prediction [[9.014547]]\n",
            "cost 2.0143747\n",
            "\n",
            "Gradient [-1.2338105 -1.2338105 -5.6907277]\n",
            "Weights: [1.4935776 1.4935776 1.5731413]\n",
            "Biases: [[3.6057456]]\n",
            "Prediction [[9.280792]]\n",
            "cost 1.2397987\n",
            "\n",
            "Gradient [-0.89596945 -0.89596945 -3.958193  ]\n",
            "Weights: [1.5119737 1.5119737 1.6095809]\n",
            "Biases: [[3.6489332]]\n",
            "Prediction [[9.586398]]\n",
            "cost 0.5847193\n",
            "\n",
            "Gradient [-0.48954716 -0.48954716 -2.0736177 ]\n",
            "Weights: [1.5325828 1.5325828 1.6474367]\n",
            "Biases: [[3.6931791]]\n",
            "Prediction [[9.91148]]\n",
            "cost 0.15629444\n",
            "\n",
            "Gradient [-0.03802281 -0.03802281 -0.15497817]\n",
            "Weights: [1.5534357 1.5534357 1.6843362]\n",
            "Biases: [[3.7359965]]\n",
            "Prediction [[10.234832]]\n",
            "cost 0.0008510023\n",
            "\n",
            "Gradient [0.421504  0.421504  1.6621886]\n",
            "Weights: [1.5725074 1.5725074 1.7179788]\n",
            "Biases: [[3.7750108]]\n",
            "Prediction [[10.534286]]\n",
            "cost 0.09566439\n",
            "\n",
            "Gradient [0.8425409 0.8425409 3.236026 ]\n",
            "Weights: [1.5878574 1.5878574 1.7462832]\n",
            "Biases: [[3.8081148]]\n",
            "Prediction [[10.788334]]\n",
            "cost 0.35575128\n",
            "\n",
            "Gradient [1.1780391 1.1780391 4.4392223]\n",
            "Weights: [1.597853  1.597853  1.7676069]\n",
            "Biases: [[3.8336873]]\n",
            "Prediction [[10.978853]]\n",
            "cost 0.66022134\n",
            "\n",
            "Gradient [1.3912888 1.3912888 5.182697 ]\n",
            "Weights: [1.6014074 1.6014074 1.7809577]\n",
            "Biases: [[3.850789]]\n",
            "Prediction [[11.093975]]\n",
            "cost 0.89257926\n",
            "\n",
            "Gradient [1.4644433 1.4644433 5.4320855]\n",
            "Weights: [1.5981324 1.5981324 1.7860967]\n",
            "Biases: [[3.8592415]]\n",
            "Prediction [[11.129873]]\n",
            "cost 0.978348\n",
            "\n"
          ],
          "name": "stdout"
        }
      ]
    },
    {
      "cell_type": "code",
      "metadata": {
        "id": "ng6Fj2DLPNtD",
        "colab_type": "code",
        "outputId": "5c173fb6-9707-4138-aeae-38ac41e63138",
        "colab": {
          "base_uri": "https://localhost:8080/",
          "height": 279
        }
      },
      "source": [
        "# How do the weights change with respect to the given input? Elaborate?\n",
        "\n",
        "import matplotlib.pyplot as plt\n",
        "plt.plot(updatelist, losslist )\n",
        "plt.xlabel('updates')\n",
        "plt.ylabel('mean_squared_error')\n",
        "plt.show()\n",
        "losslist = []\n",
        "updatelist = []"
      ],
      "execution_count": 0,
      "outputs": [
        {
          "output_type": "display_data",
          "data": {
            "image/png": "[encoded data removed]",
            "text/plain": [
              "<Figure size 432x288 with 1 Axes>"
            ]
          },
          "metadata": {
            "tags": [],
            "needs_background": "light"
          }
        }
      ]
    },
    {
      "cell_type": "markdown",
      "metadata": {
        "id": "BVDeKPupFwoT",
        "colab_type": "text"
      },
      "source": [
        "**Regularization**"
      ]
    },
    {
      "cell_type": "code",
      "metadata": {
        "id": "Dy9q-H6CBRTC",
        "colab_type": "code",
        "colab": {}
      },
      "source": [
        "try:\n",
        "  # Use the %tensorflow_version magic if in colab.\n",
        "  %tensorflow_version 1.x\n",
        "except Exception:\n",
        "  pass\n",
        "\n",
        "import tensorflow as tf\n",
        "\n",
        "# Define model\n",
        "model = tf.keras.models.Sequential([\n",
        "  tf.keras.layers.Flatten(input_shape=(28, 28)),\n",
        "\n",
        "  # Design 0. without regularization:\n",
        "  tf.keras.layers.Dense(512, activation=tf.nn.relu),\n",
        "  tf.keras.layers.Dense(512, activation=tf.nn.relu),\n",
        "  tf.keras.layers.Dense(512, activation=tf.nn.relu),\n",
        "  tf.keras.layers.Dense(512, activation=tf.nn.relu),\n",
        "\n",
        "  # Design 1. L2 Parameter norm penalty by kernel regularizer:\n",
        "  #tf.keras.layers.Dense(512, activation=tf.nn.relu, kernel_regularizer=tf.keras.regularizers.l2(0.01)),\n",
        "  #tf.keras.layers.Dense(512, activation=tf.nn.relu, kernel_regularizer=tf.keras.regularizers.l2(0.01)),\n",
        "  #tf.keras.layers.Dense(512, activation=tf.nn.relu, kernel_regularizer=tf.keras.regularizers.l2(0.01)),\n",
        "  #tf.keras.layers.Dense(512, activation=tf.nn.relu, kernel_regularizer=tf.keras.regularizers.l2(0.01)),\n",
        "\n",
        "  # Design 2. Dropout:\n",
        "  tf.keras.layers.Dense(512, activation=tf.nn.relu),\n",
        "  tf.keras.layers.Dropout(0.5),\n",
        "  tf.keras.layers.Dense(512, activation=tf.nn.relu),\n",
        "  tf.keras.layers.Dropout(0.5),\n",
        "  tf.keras.layers.Dense(512, activation=tf.nn.relu),\n",
        "  tf.keras.layers.Dropout(0.5),\n",
        "  tf.keras.layers.Dense(512, activation=tf.nn.relu),\n",
        "  tf.keras.layers.Dropout(0.5),\n",
        "\n",
        "  tf.keras.layers.Dense(10, activation=tf.nn.softmax)\n",
        "])"
      ],
      "execution_count": 0,
      "outputs": []
    },
    {
      "cell_type": "code",
      "metadata": {
        "id": "u04YwXMBI-4_",
        "colab_type": "code",
        "colab": {}
      },
      "source": [
        "# Define training parameters, feel free to play with the different optimizers as well.\n",
        "model.compile(optimizer='adam',\n",
        "              loss='sparse_categorical_crossentropy',\n",
        "              metrics=['accuracy'])\n",
        "\n",
        "# Load training data (reduce training data to 10k samples)\n",
        "mnist = tf.keras.datasets.mnist\n",
        "(x_train, y_train), (x_validation, y_validation) = mnist.load_data()\n",
        "\n",
        "# Normalize input images (comply with activation function)\n",
        "x_train, x_validation = x_train / 255.0, x_validation / 255.0"
      ],
      "execution_count": 0,
      "outputs": []
    },
    {
      "cell_type": "code",
      "metadata": {
        "id": "K7cxZSyEJN5A",
        "colab_type": "code",
        "outputId": "c7fd3c44-9080-42d9-81fc-e34a07051ffc",
        "colab": {
          "base_uri": "https://localhost:8080/",
          "height": 748
        }
      },
      "source": [
        "\n",
        "# 3. Augmentation\n",
        "# x_train = x_train.reshape(x_train.shape[0], 1, 28, 28)\n",
        "# datagenerator = tf.keras.preprocessing.image.ImageDataGenerator(\n",
        "#                                                                 featurewise_center=True,\n",
        "#                                                                 featurewise_std_normalization=True,\n",
        "#                                                                 rotation_range=20,\n",
        "#                                                                 width_shift_range=0.2,\n",
        "#                                                                 height_shift_range=0.2,\n",
        "#                                                                 horizontal_flip=False\n",
        "#                                                                 )\n",
        "#\n",
        "# for e in range(10):\n",
        "#     print('Epoch', e)\n",
        "#     batches = 0\n",
        "#     for x_batch, y_batch in datagenerator.flow(x_train, y_train, batch_size=32):\n",
        "#         model.fit(np.reshape(x_batch, (-1, 28, 28)), y_batch, shuffle=True)\n",
        "#         batches += 1\n",
        "#         if batches >= len(x_train) / 32:\n",
        "#             # we need to break the loop by hand because\n",
        "#             # the generator loops indefinitely\n",
        "#             break\n",
        "\n",
        "# 4. Early stopping (usually you should monitor the validation accuracy)\n",
        "# es = tf.keras.callbacks.EarlyStopping(monitor='val_loss',\n",
        "#                                      min_delta=0,\n",
        "#                                      patience=1,\n",
        "#                                      mode='auto'\n",
        "#                                      )\n",
        "#\n",
        "\n",
        "# Fit model on training data (with callback)\n",
        "model.fit(x_train, \n",
        "          y_train, \n",
        "          epochs=20, \n",
        "          shuffle=True, \n",
        "          #callbacks=[es],\n",
        "          validation_data=(x_validation, y_validation)\n",
        "         )\n",
        "\n",
        "# Fit model on training data (without augmentation)\n",
        "# model.fit(x_train, y_train, epochs=10, shuffle=True)\n",
        "\n",
        "# Evaluate performance on validation set\n",
        "_, validation_acc = model.evaluate(x_validation, y_validation)\n",
        "print('validation accuracy:', validation_acc)\n",
        "\n",
        "# ---------------------------------------------------------------------------------------------------------------------\n",
        "\n",
        "# without regularization \"relu\":\n",
        "# training accuracy: 0.9921\n",
        "# validation accuracy: 0.9797 :)\n",
        "\n",
        "# without regularization \"elu\":\n",
        "# training accuracy: 0.9861 \n",
        "# validation accuracy: 0.9704 :(\n",
        "    \n",
        "# without regularization \"leaky_relu\":\n",
        "# training accuracy: 0.9835 \n",
        "# validation accuracy: 0.9736 :|\n",
        "\n",
        "# L2 parameter norm penalties:\n",
        "# training accuracy: 0.9445\n",
        "# validation accuracy: 0.9464\n",
        "# Die Accuracy ist gesunken, aber man sieht die Wirkung der Regularisation: die Trainings-Accuracy ist auch gesunken -> Gefahr der Overfitting sinkt mit\n",
        "\n",
        "# Dropout 0.5  10 Epochen:\n",
        "# training accuracy: 0.9603\n",
        "# validation accuracy: 0.9763\n",
        "# Die Accuracy ist gesunken, aber man sieht die Wirkung der Regularisation: die Trainings-Accuracy ist auch gesunken -> Gefahr der Overfitting sinkt mit\n",
        "# Gute validation accuracy: 0.9763 -> gute Generalisierung \n",
        "\n",
        "# Dropout 0.5 20 Epochen:\n",
        "# training accuracy: 0.9880\n",
        "# validation accuracy: 0.9748\n",
        "# Die Trainings-Accuracy ist wieder gestiegen -> das Netz hat gelernt mit den ausfallenden Neuronen die Zahlen besser zu erkennen\n",
        "\n",
        "# Augmentation:\n",
        "# training accuracy: 0.9697\n",
        "# validation accuracy: 0.9786\n",
        "\n",
        "# Early stopping (nach 4 Epochen):\n",
        "# training accuracy: 0.9818\n",
        "# validation accuracy: 0.9765\n",
        "\n",
        "# Ergebniss: Bei einer großen Trainings DB (wie MNIST) bringt die Regularisierung zuerst eher die Senkung der Accuracy, vor allem der Trainings-Accuracy. \n",
        "# Das dient aber bei der kleineren Anzahl der Trainings-Daten zum Schutz vor Overfitting und zur Verbesserung der Generalisierung"
      ],
      "execution_count": 0,
      "outputs": [
        {
          "output_type": "stream",
          "text": [
            "Train on 60000 samples, validate on 10000 samples\n",
            "Epoch 1/20\n",
            "60000/60000 [==============================] - 8s 126us/sample - loss: 0.4468 - acc: 0.8748 - val_loss: 0.2143 - val_acc: 0.9487\n",
            "Epoch 2/20\n",
            "60000/60000 [==============================] - 7s 120us/sample - loss: 0.2017 - acc: 0.9569 - val_loss: 0.1430 - val_acc: 0.9673\n",
            "Epoch 3/20\n",
            "60000/60000 [==============================] - 7s 125us/sample - loss: 0.1627 - acc: 0.9649 - val_loss: 0.1498 - val_acc: 0.9627\n",
            "Epoch 4/20\n",
            "60000/60000 [==============================] - 7s 121us/sample - loss: 0.1429 - acc: 0.9699 - val_loss: 0.1774 - val_acc: 0.9594\n",
            "Epoch 5/20\n",
            "60000/60000 [==============================] - 7s 124us/sample - loss: 0.1273 - acc: 0.9728 - val_loss: 0.2631 - val_acc: 0.9685\n",
            "Epoch 6/20\n",
            "60000/60000 [==============================] - 7s 119us/sample - loss: 0.1185 - acc: 0.9753 - val_loss: 0.1289 - val_acc: 0.9760\n",
            "Epoch 7/20\n",
            "60000/60000 [==============================] - 7s 120us/sample - loss: 0.1149 - acc: 0.9766 - val_loss: 0.1874 - val_acc: 0.9697\n",
            "Epoch 8/20\n",
            "60000/60000 [==============================] - 7s 121us/sample - loss: 0.0987 - acc: 0.9795 - val_loss: 0.1394 - val_acc: 0.9709\n",
            "Epoch 9/20\n",
            "60000/60000 [==============================] - 7s 125us/sample - loss: 0.0944 - acc: 0.9805 - val_loss: 0.1262 - val_acc: 0.9749\n",
            "Epoch 10/20\n",
            "60000/60000 [==============================] - 7s 120us/sample - loss: 0.0862 - acc: 0.9817 - val_loss: 0.1746 - val_acc: 0.9738\n",
            "Epoch 11/20\n",
            "60000/60000 [==============================] - 7s 120us/sample - loss: 0.0830 - acc: 0.9822 - val_loss: 0.1641 - val_acc: 0.9728\n",
            "Epoch 12/20\n",
            "60000/60000 [==============================] - 7s 122us/sample - loss: 0.0929 - acc: 0.9826 - val_loss: 0.2108 - val_acc: 0.9729\n",
            "Epoch 13/20\n",
            "60000/60000 [==============================] - 7s 121us/sample - loss: 0.0790 - acc: 0.9843 - val_loss: 0.1847 - val_acc: 0.9739\n",
            "Epoch 14/20\n",
            "60000/60000 [==============================] - 7s 120us/sample - loss: 0.0842 - acc: 0.9829 - val_loss: 0.1719 - val_acc: 0.9764\n",
            "Epoch 15/20\n",
            "60000/60000 [==============================] - 7s 119us/sample - loss: 0.0792 - acc: 0.9861 - val_loss: 0.1619 - val_acc: 0.9677\n",
            "Epoch 16/20\n",
            "60000/60000 [==============================] - 7s 118us/sample - loss: 0.0795 - acc: 0.9851 - val_loss: 0.1221 - val_acc: 0.9781\n",
            "Epoch 17/20\n",
            "60000/60000 [==============================] - 7s 122us/sample - loss: 0.0788 - acc: 0.9858 - val_loss: 0.1216 - val_acc: 0.9777\n",
            "Epoch 18/20\n",
            "60000/60000 [==============================] - 7s 121us/sample - loss: 0.0702 - acc: 0.9858 - val_loss: 0.1933 - val_acc: 0.9775\n",
            "Epoch 19/20\n",
            "60000/60000 [==============================] - 7s 121us/sample - loss: 0.0762 - acc: 0.9858 - val_loss: 0.1348 - val_acc: 0.9773\n",
            "Epoch 20/20\n",
            "60000/60000 [==============================] - 7s 122us/sample - loss: 0.0664 - acc: 0.9880 - val_loss: 0.1918 - val_acc: 0.9748\n",
            "10000/10000 [==============================] - 1s 52us/sample - loss: 0.1918 - acc: 0.9748\n",
            "validation accuracy: 0.9748\n"
          ],
          "name": "stdout"
        }
      ]
    }
  ]
}